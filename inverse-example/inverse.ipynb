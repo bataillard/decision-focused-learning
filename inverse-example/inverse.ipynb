{
 "cells": [
  {
   "attachments": {},
   "cell_type": "markdown",
   "id": "1e82386a",
   "metadata": {},
   "source": [
    "# Inverse Optimization for DFS\n",
    "_Applying Ghobadi and Mahmoudzadeh 2021_"
   ]
  },
  {
   "cell_type": "code",
   "execution_count": null,
   "id": "e21d7c71",
   "metadata": {},
   "outputs": [],
   "source": [
    "using JuMP\n",
    "using Gurobi\n",
    "using LinearAlgebra"
   ]
  },
  {
   "attachments": {},
   "cell_type": "markdown",
   "id": "1c902a27",
   "metadata": {},
   "source": [
    "## Structures and parameters"
   ]
  },
  {
   "cell_type": "code",
   "execution_count": null,
   "id": "013c3606",
   "metadata": {},
   "outputs": [],
   "source": [
    "struct ForwardParams\n",
    "    n_paths::Int\n",
    "    n_commodities::Int\n",
    "\n",
    "    capacities::Vector{Number}\n",
    "\n",
    "    design_costs::Vector\n",
    "    flow_costs::Matrix\n",
    "\n",
    "    enabled_flows::Matrix{Bool}\n",
    "\n",
    "    function ForwardParams(; n_paths, n_commodities, capacities, design_costs, flow_costs, enabled_flows=nothing)\n",
    "        shape = (n_paths, n_commodities)\n",
    "        \n",
    "        if isnothing(enabled_flows) \n",
    "            enabled_flows = ones(Bool, shape)\n",
    "        elseif size(enabled_flows) != shape\n",
    "            error(\"Invalid shape $(size(enabled_flows)) for `disabled_flows`, should be $(shape)\")\n",
    "        end\n",
    "        \n",
    "        new(n_paths, n_commodities, capacities, design_costs, flow_costs, enabled_flows)\n",
    "    end\n",
    "end\n",
    "\n",
    "struct ForwardSolution\n",
    "    x_sol::Matrix\n",
    "    z_sol::Vector\n",
    "end"
   ]
  },
  {
   "cell_type": "code",
   "execution_count": null,
   "id": "924c3621",
   "metadata": {},
   "outputs": [],
   "source": [
    "function forward_example_params()::ForwardParams\n",
    "    enabled_flows = ones(Bool, (2, 2))\n",
    "    enabled_flows[1, 2] = false\n",
    "\n",
    "    return ForwardParams(\n",
    "        n_paths=2, \n",
    "        n_commodities=2,\n",
    "        capacities=[100, 100],\n",
    "        design_costs=[100, 10],\n",
    "        flow_costs=[10 10 ; 100 100],\n",
    "        enabled_flows=enabled_flows\n",
    "    )\n",
    "end\n",
    "\n",
    "function forward_example_demand()::Vector\n",
    "    return [10, 6]\n",
    "end\n",
    "\n",
    "function sol_vector(sol::ForwardSolution)::Vector\n",
    "    flat_xs = reshape(sol.x_sol, (length(sol.x_sol), 1))\n",
    "\n",
    "    return vec(vcat(flat_xs, sol.z_sol))\n",
    "end"
   ]
  },
  {
   "attachments": {},
   "cell_type": "markdown",
   "id": "699f05d9",
   "metadata": {},
   "source": [
    "## Forward problem"
   ]
  },
  {
   "cell_type": "code",
   "execution_count": null,
   "id": "0fe8a834",
   "metadata": {},
   "outputs": [],
   "source": [
    "function create_forward_problem(params::ForwardParams, demands::Vector)::Model\n",
    "    model = Model(Gurobi.Optimizer)\n",
    "\n",
    "    @variable(model, z[1:params.n_paths], Bin)\n",
    "    @variable(model, x[1:params.n_paths, 1:params.n_commodities] >= 0)\n",
    "\n",
    "    @objective(model, Min, params.design_costs' * z + sum(params.flow_costs .* x))\n",
    "\n",
    "    @constraint(model, [k = 1:params.n_commodities], sum(x[:, k]) .== demands[k])\n",
    "    @constraint(model, [i = 1:params.n_paths], sum(x[i, :]) <= params.capacities[i] * z[i])\n",
    "    @constraint(model, [i = 1:params.n_paths, k = 1:params.n_paths; !params.enabled_flows[i, k]], x[i, k] .== 0)\n",
    "\n",
    "    return model\n",
    "end\n",
    "\n",
    "function solve_forward_problem!(model::Model)::ForwardSolution\n",
    "    optimize!(model)\n",
    "\n",
    "    x_sol = value.(model[:x])\n",
    "    z_sol = value.(model[:z])\n",
    "\n",
    "    return ForwardSolution(x_sol, z_sol)\n",
    "end\n",
    "\n",
    "function create_and_solve_forward_problem(params::ForwardParams, demands::Vector)::ForwardSolution\n",
    "    return solve_forward_problem!(create_forward_problem(params, demands))\n",
    "end"
   ]
  },
  {
   "cell_type": "code",
   "execution_count": null,
   "id": "1ca1599e",
   "metadata": {},
   "outputs": [],
   "source": [
    "forward_model = create_forward_problem(forward_example_params(), forward_example_demand())\n",
    "forward_sol = solve_forward_problem!(forward_model)"
   ]
  },
  {
   "cell_type": "code",
   "execution_count": null,
   "id": "9e48b666",
   "metadata": {},
   "outputs": [],
   "source": [
    "println(forward_sol.x_sol)\n",
    "println(forward_sol.z_sol)"
   ]
  },
  {
   "attachments": {},
   "cell_type": "markdown",
   "id": "a94f553b",
   "metadata": {},
   "source": [
    "## Inverse problem (demand only)"
   ]
  },
  {
   "cell_type": "code",
   "execution_count": null,
   "id": "62acf123",
   "metadata": {},
   "outputs": [],
   "source": [
    "struct InverseDemandSolution\n",
    "    demands::Vector\n",
    "end"
   ]
  },
  {
   "cell_type": "code",
   "execution_count": null,
   "id": "243da05c",
   "metadata": {},
   "outputs": [],
   "source": [
    "function create_A_demand(n_paths::Integer, n_commodities::Integer, n_variables::Integer, enabled_flows::Matrix{Bool})\n",
    "    A_pos = zeros(Number, (n_commodities, n_variables))\n",
    "    for k in 1:n_commodities\n",
    "        shift_amount = (k - 1) * n_paths\n",
    "        shifted_range = (1:n_paths) .+ shift_amount\n",
    "        A_pos[k, shifted_range] .= Int.(params.enabled_flows[:,k])\n",
    "    end\n",
    "    A = vcat(A_pos, -A_pos)\n",
    "\n",
    "    return A\n",
    "end\n",
    "\n",
    "function create_Gh_demand(n_paths::Integer, n_commodities::Integer, n_variables::Integer, enabled_flows::Matrix{Bool})\n",
    "    n_flows = n_paths * n_commodities\n",
    "\n",
    "    G_paths = zeros(Number, (n_paths, n_variables))\n",
    "    for p in 1:n_paths\n",
    "        G_paths[p, p:n_commodities:n_commodities*n_paths] .= Int.(params.enabled_flows[p, :])\n",
    "        G_paths[p, n_flows + p] = params.capacities[p]\n",
    "    end\n",
    "    G_nonneg = diagm(ones(n_variables))\n",
    "    G_binary = hcat(zeros((n_paths, n_flows)), diagm(ones(n_paths)))\n",
    "    \n",
    "    G = vcat(.-G_paths, G_nonneg, G_binary)\n",
    "    h = zeros(size(G)[1])\n",
    "\n",
    "    return G,h\n",
    "end\n",
    "\n",
    "function create_AGh_demand(params::ForwardParams)\n",
    "    n_paths, n_commodities = params.n_paths, params.n_commodities\n",
    "    n_flows = n_paths * n_commodities\n",
    "    n_variables = n_flows + n_paths\n",
    "\n",
    "    A = create_A_demand(n_paths, n_commodities, n_variables, params.enabled_flows)\n",
    "    G,h = create_Gh_demand(n_paths, n_commodities, n_variables, params.enabled_flows)\n",
    "\n",
    "    return A, G, h\n",
    "end\n",
    "\n",
    "function add_half_space_constraint_demand(G::Matrix, h::Vector, solutions::Tuple{ForwardSolution}, params::ForwardParams)\n",
    "    flat_flow_costs = reshape(params.flow_costs, (length(params.flow_costs), 1))\n",
    "    full_costs = vcat(flat_flow_costs, params.design_costs)\n",
    "\n",
    "    optimal_cost = minimum(sol -> full_costs' * sol_vector(sol), solutions)\n",
    "\n",
    "    G_hs = vcat(G, full_costs')\n",
    "    h_hs = vcat(h, optimal_cost)\n",
    "\n",
    "    return G_hs, h_hs\n",
    "end"
   ]
  },
  {
   "cell_type": "code",
   "execution_count": null,
   "id": "d423b47d",
   "metadata": {},
   "outputs": [],
   "source": [
    "function create_b_variables_demand!(model::Model, n_commodities::Integer)\n",
    "    @variable(model, b[1:(2 * n_commodities)])\n",
    "    @constraint(model, [i = 1:n_commodities], b[i] == -b[n_commodities + i])\n",
    "    \n",
    "    return b\n",
    "end\n",
    "\n",
    "function add_inverse_constraints_demand!(model::Model, solutions::Tuple{ForwardSolution}, A::Matrix, b::Vector, G::Matrix, h::Vector)\n",
    "    @constraint(model, [sol in solutions], A*sol_vector(sol) .>= b)\n",
    "end\n",
    "\n",
    "function add_inverse_objective_demand!(model::Model, A::Matrix, b::Vector)\n",
    "end\n",
    "\n",
    "function create_inverse_demand_problem(params::ForwardParams, demand::Vector, solutions::ForwardSolution...)\n",
    "    model = Model(Gurobi.Optimizer)\n",
    "\n",
    "    A, G, h = create_AGh_demand(params)\n",
    "    G, h = add_half_space_constraint_demand(G, h, solutions, params)\n",
    "    \n",
    "    b = create_b_variables_demand!(model, params.n_commodities)\n",
    "    print(typeof(solutions))\n",
    "\n",
    "    add_inverse_constraints_demand!(model, solutions, A, b, G, h)\n",
    "    add_inverse_objective_demand!(model, A, b)    \n",
    "\n",
    "    return model\n",
    "end"
   ]
  },
  {
   "cell_type": "code",
   "execution_count": null,
   "id": "a73f7b44",
   "metadata": {},
   "outputs": [],
   "source": [
    "params = forward_example_params()\n",
    "demand = forward_example_demand()\n",
    "\n",
    "forward_model = create_forward_problem(params, demand)\n",
    "forward_sol = solve_forward_problem!(forward_model)"
   ]
  },
  {
   "cell_type": "code",
   "execution_count": null,
   "id": "85d2e53e",
   "metadata": {},
   "outputs": [],
   "source": [
    "inverse_demand_model = create_inverse_demand_problem(params, demand, forward_sol)\n",
    "print(inverse_demand_model)"
   ]
  },
  {
   "cell_type": "code",
   "execution_count": null,
   "id": "afac8827",
   "metadata": {},
   "outputs": [],
   "source": [
    "function solve_inverse_demand_problem!(model::Model)::InverseDemandSolution\n",
    "    optimize!(model)\n",
    "\n",
    "    b_sol = value.(model[:b])\n",
    "    half = length(b_sol) ÷ 2\n",
    "    b_first, b_second = b_sol[1:half], b_sol[half+1:end]\n",
    "    \n",
    "    demands = (all(b_first .>= 0)) ? b_first : b_second\n",
    "\n",
    "    return InverseDemandSolution(demands)\n",
    "end"
   ]
  },
  {
   "cell_type": "code",
   "execution_count": null,
   "id": "6567ef60",
   "metadata": {},
   "outputs": [],
   "source": [
    "solve_inverse_demand_problem!(inverse_demand_model)"
   ]
  },
  {
   "attachments": {},
   "cell_type": "markdown",
   "id": "88de94b5",
   "metadata": {},
   "source": [
    "## Inverse problem (linear regression on demand)"
   ]
  },
  {
   "cell_type": "code",
   "execution_count": null,
   "id": "aeb57692",
   "metadata": {},
   "outputs": [],
   "source": [
    "struct InverseLinRegParams\n",
    "    n_features::Integer\n",
    "    n_commodities::Integer\n",
    "\n",
    "    weights::Matrix\n",
    "    forward_params::ForwardParams\n",
    "\n",
    "    function InverseLinRegParams(; weights::Matrix, forward_params::ForwardParams)\n",
    "        return new(size(weights)[2], forward_params.n_commodities, weights, forward_params)\n",
    "    end\n",
    "end\n",
    "\n",
    "struct InverseLinRegSolution\n",
    "    forward_sol::ForwardSolution\n",
    "    linreg_features::Vector\n",
    "end"
   ]
  },
  {
   "cell_type": "code",
   "execution_count": null,
   "id": "1970b2e4",
   "metadata": {},
   "outputs": [],
   "source": [
    "function inverse_linreg_example_params()\n",
    "    weights = [1.5 2; 1 1]\n",
    "\n",
    "    return InverseLinRegParams(weights=weights, forward_params=forward_example_params())\n",
    "end\n",
    "\n",
    "function inverse_linreg_example_featuress()\n",
    "    return [[4, 2], [3, 1]]\n",
    "end"
   ]
  },
  {
   "cell_type": "code",
   "execution_count": null,
   "id": "86758d41",
   "metadata": {},
   "outputs": [],
   "source": [
    "function predict_demand(params::InverseLinRegParams, linreg_features::Vector)\n",
    "    return params.weights * linreg_features\n",
    "end\n",
    "\n",
    "function generate_inverse_linreg_solutions(params::InverseLinRegParams, linreg_featuress)\n",
    "    demandss = [predict_demand(params, features) for features in linreg_featuress]\n",
    "    forward_sols = [create_and_solve_forward_problem(params.forward_params, demands) for demands in demandss]\n",
    "\n",
    "    return [InverseLinRegSolution(forward_sol, linreg_features) for (forward_sol, linreg_features) in zip(forward_sols, linreg_featuress)]\n",
    "end"
   ]
  },
  {
   "cell_type": "code",
   "execution_count": null,
   "id": "b5c98133",
   "metadata": {},
   "outputs": [],
   "source": [
    "function linreg_sol_vector(sol::InverseLinRegSolution)::Vector\n",
    "    return vcat(sol_vector(sol.forward_sol), sol.linreg_features)\n",
    "end\n",
    "\n",
    "function create_A_weights!(model::Model, n_commodities::Integer, n_features::Integer)\n",
    "    @variable(model, w[1:n_commodities, 1:n_features])\n",
    "    return vcat(w, .-w)\n",
    "end\n",
    "\n",
    "function normalize_A_rows!(model::Model, A_full::Matrix)\n",
    "    # Not sure this is actually needed \n",
    "end\n",
    "\n",
    "function create_A_linreg!(model::Model, inv_params::InverseLinRegParams)\n",
    "    A_demand, _, _ = create_AGh_demand(inv_params.forward_params)\n",
    "    A_w = create_A_weights!(model, inv_params.n_commodities, inv_params.n_features)\n",
    "\n",
    "    A = hcat(A_demand, A_w)\n",
    "\n",
    "    normalize_A_rows!(model, A)\n",
    "    return A\n",
    "end\n",
    "\n",
    "function create_b_linreg!(model::Model, params::InverseLinRegParams)\n",
    "    return zeros(2*params.n_commodities)\n",
    "end"
   ]
  },
  {
   "cell_type": "code",
   "execution_count": null,
   "id": "5585a941",
   "metadata": {},
   "outputs": [],
   "source": [
    "inv_linreg_params = inverse_linreg_example_params()\n",
    "inv_linreg_model = Model(Gurobi.Optimizer)\n",
    "\n",
    "A = create_A_linreg!(inv_linreg_model, inv_linreg_params)"
   ]
  },
  {
   "cell_type": "code",
   "execution_count": null,
   "id": "a7d414c6",
   "metadata": {},
   "outputs": [],
   "source": [
    "function add_linreg_inverse_constraints!(model::Model, A::Matrix, b::Vector, solutions::Vector{InverseLinRegSolution})\n",
    "    println(\"Test $(A)\")\n",
    "    \n",
    "    for sol in solutions\n",
    "        sol_vec = linreg_sol_vector(sol)\n",
    "\n",
    "        # Workaround since \n",
    "        for row in 1:size(A)[1]\n",
    "            a = A[row, :]\n",
    "\n",
    "            println(\"$(row) AT $(a)\")\n",
    "            @constraint(model, sol_vec' * a .>= b[row])\n",
    "        end\n",
    "    end\n",
    "end\n",
    "\n",
    "function add_linreg_inverse_objective!(model::Model, A::Matrix, b::Vector)\n",
    "\n",
    "end\n",
    "\n",
    "function create_inverse_linreg_problem(params::InverseLinRegParams, solutions::Vector{InverseLinRegSolution})\n",
    "    model = Model(Gurobi.Optimizer)\n",
    "\n",
    "    A = create_A_linreg!(model, params)\n",
    "    b = create_b_linreg!(model, params)\n",
    "\n",
    "    add_linreg_inverse_constraints!(model, A, b, solutions)\n",
    "    add_linreg_inverse_objective!(model, A, b)\n",
    "\n",
    "    return model\n",
    "end"
   ]
  },
  {
   "cell_type": "code",
   "execution_count": null,
   "id": "ab13eb14",
   "metadata": {},
   "outputs": [],
   "source": [
    "linreg_params = inverse_linreg_example_params()\n",
    "linreg_featuress = inverse_linreg_example_featuress()\n",
    "solutions = generate_inverse_linreg_solutions(linreg_params, linreg_featuress)"
   ]
  },
  {
   "cell_type": "code",
   "execution_count": null,
   "id": "bb152e08",
   "metadata": {},
   "outputs": [],
   "source": [
    "linreg_model = create_inverse_linreg_problem(linreg_params, solutions)\n",
    "print(linreg_model)"
   ]
  },
  {
   "cell_type": "code",
   "execution_count": null,
   "id": "813439c3",
   "metadata": {},
   "outputs": [],
   "source": [
    "optimize!(linreg_model)\n",
    "value.(linreg_model[:w])"
   ]
  },
  {
   "cell_type": "code",
   "execution_count": null,
   "id": "f93b8ef2",
   "metadata": {},
   "outputs": [],
   "source": []
  }
 ],
 "metadata": {
  "kernelspec": {
   "display_name": "Julia 1.9.0",
   "language": "julia",
   "name": "julia-1.9"
  },
  "language_info": {
   "file_extension": ".jl",
   "mimetype": "application/julia",
   "name": "julia",
   "version": "1.9.0"
  }
 },
 "nbformat": 4,
 "nbformat_minor": 5
}
