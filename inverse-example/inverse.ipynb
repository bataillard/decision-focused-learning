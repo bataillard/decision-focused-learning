{
 "cells": [
  {
   "attachments": {},
   "cell_type": "markdown",
   "id": "1e82386a",
   "metadata": {},
   "source": [
    "# Inverse Optimization for DFS\n",
    "_Applying Ghobadi and Mahmoudzadeh 2021_"
   ]
  },
  {
   "cell_type": "code",
   "execution_count": null,
   "id": "e21d7c71",
   "metadata": {},
   "outputs": [],
   "source": [
    "using JuMP\n",
    "using Gurobi\n",
    "using LinearAlgebra"
   ]
  },
  {
   "attachments": {},
   "cell_type": "markdown",
   "id": "1c902a27",
   "metadata": {},
   "source": [
    "## Structures and parameters"
   ]
  },
  {
   "cell_type": "code",
   "execution_count": 2,
   "id": "013c3606",
   "metadata": {},
   "outputs": [],
   "source": [
    "struct ForwardProblemParams\n",
    "    n_paths::Int\n",
    "    n_commodities::Int\n",
    "\n",
    "    capacities::Vector{Number}\n",
    "    demands::Vector\n",
    "\n",
    "    design_costs::Vector\n",
    "    flow_costs::Matrix\n",
    "\n",
    "    enabled_flows::Matrix{Bool}\n",
    "\n",
    "    function ForwardProblemParams(; n_paths, n_commodities, capacities, demands, design_costs, flow_costs, enabled_flows=nothing)\n",
    "        shape = (n_paths, n_commodities)\n",
    "        \n",
    "        if isnothing(enabled_flows) \n",
    "            enabled_flows = ones(Bool, shape)\n",
    "        elseif size(enabled_flows) != shape\n",
    "            error(\"Invalid shape $(size(enabled_flows)) for `disabled_flows`, should be $(shape)\")\n",
    "        end\n",
    "        \n",
    "        new(n_paths, n_commodities, capacities, demands, design_costs, flow_costs, enabled_flows)\n",
    "    end\n",
    "end"
   ]
  },
  {
   "cell_type": "code",
   "execution_count": 3,
   "id": "924c3621",
   "metadata": {},
   "outputs": [
    {
     "data": {
      "text/plain": [
       "forward_example_params (generic function with 1 method)"
      ]
     },
     "metadata": {},
     "output_type": "display_data"
    }
   ],
   "source": [
    "function forward_example_params()::ForwardProblemParams\n",
    "    enabled_flows = ones(Bool, (2, 2))\n",
    "    enabled_flows[1, 2] = false\n",
    "\n",
    "    return ForwardProblemParams(\n",
    "        n_paths=2, \n",
    "        n_commodities=2,\n",
    "        capacities=[100, 100],\n",
    "        demands=[10, 6],\n",
    "        design_costs=[100, 10],\n",
    "        flow_costs=[10 10 ; 100 100],\n",
    "        enabled_flows=enabled_flows\n",
    "    )\n",
    "end"
   ]
  },
  {
   "attachments": {},
   "cell_type": "markdown",
   "id": "699f05d9",
   "metadata": {},
   "source": [
    "## Forward problem"
   ]
  },
  {
   "cell_type": "code",
   "execution_count": 19,
   "id": "0fe8a834",
   "metadata": {},
   "outputs": [
    {
     "data": {
      "text/plain": [
       "solve_forward_problem! (generic function with 1 method)"
      ]
     },
     "metadata": {},
     "output_type": "display_data"
    }
   ],
   "source": [
    "function create_forward_problem(params::ForwardProblemParams)::Model\n",
    "    model = Model(Gurobi.Optimizer)\n",
    "\n",
    "    @variable(model, z[1:params.n_paths], Bin)\n",
    "    @variable(model, x[1:params.n_paths, 1:params.n_commodities] >= 0)\n",
    "\n",
    "    @objective(model, Min, params.design_costs' * z + sum(params.flow_costs .* x))\n",
    "\n",
    "    @constraint(model, [k = 1:params.n_commodities], sum(x[:, k]) .== params.demands[k])\n",
    "    @constraint(model, [i = 1:params.n_paths], sum(x[i, :]) <= params.capacities[i] * z[i])\n",
    "    @constraint(model, [i = 1:params.n_paths, k = 1:params.n_paths; !params.enabled_flows[i, k]], x[i, k] .== 0)\n",
    "\n",
    "    return model\n",
    "end\n",
    "\n",
    "function solve_forward_problem!(model::Model)\n",
    "    optimize!(model)\n",
    "\n",
    "    x_sol = value.(model[:x])\n",
    "    z_sol = value.(model[:z])\n",
    "\n",
    "    return x_sol, z_sol\n",
    "end"
   ]
  },
  {
   "cell_type": "code",
   "execution_count": 20,
   "id": "1ca1599e",
   "metadata": {},
   "outputs": [
    {
     "name": "stdout",
     "output_type": "stream",
     "text": [
      "Set parameter Username\n",
      "Academic license - for non-commercial use only - expires 2024-04-23\n",
      "Gurobi Optimizer version 10.0.1 build v10.0.1rc0 (linux64)\n",
      "\n",
      "CPU model: Intel(R) Core(TM) i5-8250U CPU @ 1.60GHz, instruction set [SSE2|AVX|AVX2]\n",
      "Thread count: 4 physical cores, 8 logical processors, using up to 8 threads\n",
      "\n",
      "Optimize a model with 5 rows, 6 columns and 11 nonzeros\n",
      "Model fingerprint: 0xa664e8a1\n",
      "Variable types: 4 continuous, 2 integer (2 binary)\n",
      "Coefficient statistics:\n",
      "  Matrix range     [1e+00, 1e+02]\n",
      "  Objective range  [1e+01, 1e+02]\n",
      "  Bounds range     [0e+00, 0e+00]\n",
      "  RHS range        [6e+00, 1e+01]\n",
      "Presolve removed 5 rows and 6 columns\n",
      "Presolve time: 0.00s\n",
      "Presolve: All rows and columns removed\n",
      "\n",
      "Explored 0 nodes (0 simplex iterations) in 0.00 seconds (0.00 work units)\n",
      "Thread count was 1 (of 8 available processors)\n",
      "\n",
      "Solution count 1: 810 \n",
      "\n",
      "Optimal solution found (tolerance 1.00e-04)\n",
      "Best objective 8.100000000000e+02, best bound 8.100000000000e+02, gap 0.0000%\n",
      "\n",
      "User-callback calls 211, time in user-callback 0.00 sec\n"
     ]
    },
    {
     "data": {
      "text/plain": [
       "([10.0 0.0; 0.0 6.0], [1.0, 1.0])"
      ]
     },
     "metadata": {},
     "output_type": "display_data"
    }
   ],
   "source": [
    "forward_model = create_forward_problem(forward_example_params())\n",
    "x_sol, z_sol = solve_forward_problem!(forward_model)"
   ]
  },
  {
   "cell_type": "code",
   "execution_count": 21,
   "id": "9e48b666",
   "metadata": {},
   "outputs": [
    {
     "name": "stdout",
     "output_type": "stream",
     "text": [
      "[10.0 0.0; 0.0 6.0]\n",
      "[1.0, 1.0]\n"
     ]
    }
   ],
   "source": [
    "println(x_sol)\n",
    "println(z_sol)"
   ]
  },
  {
   "attachments": {},
   "cell_type": "markdown",
   "id": "a94f553b",
   "metadata": {},
   "source": [
    "## Inverse problem (single point)"
   ]
  },
  {
   "cell_type": "code",
   "execution_count": 39,
   "id": "51ead86b",
   "metadata": {},
   "outputs": [
    {
     "data": {
      "text/plain": [
       "add_half_space_constraint (generic function with 2 methods)"
      ]
     },
     "metadata": {},
     "output_type": "display_data"
    }
   ],
   "source": [
    "function create_solution_vector(x_sol::Matrix, z_sol::Vector)\n",
    "    flat_xs = reshape(x_sol, (length(x_sol), 1))\n",
    "\n",
    "    return vec(vcat(flat_xs, z_sol))\n",
    "end\n",
    "\n",
    "function create_A(n_paths::Integer, n_commodities::Integer, n_variables::Integer, enabled_flows::Matrix{Bool})\n",
    "    A_pos = zeros(Number, (n_commodities, n_variables))\n",
    "    for k in 1:n_commodities\n",
    "        shift_amount = (k - 1) * n_paths\n",
    "        shifted_range = (1:n_paths) .+ shift_amount\n",
    "        A_pos[k, shifted_range] .= Int.(params.enabled_flows[:,k])\n",
    "    end\n",
    "    A = vcat(A_pos, -A_pos)\n",
    "\n",
    "    return A\n",
    "end\n",
    "\n",
    "function create_Gh(n_paths::Integer, n_commodities::Integer, n_variables::Integer, enabled_flows::Matrix{Bool})\n",
    "    n_flows = n_paths * n_commodities\n",
    "\n",
    "    G_paths = zeros(Number, (n_paths, n_variables))\n",
    "    for p in 1:n_paths\n",
    "        G_paths[p, p:n_commodities:n_commodities*n_paths] .= Int.(params.enabled_flows[p, :])\n",
    "        G_paths[p, n_flows + p] = params.capacities[p]\n",
    "    end\n",
    "    G_nonneg = diagm(ones(n_variables))\n",
    "    G_binary = hcat(zeros((n_paths, n_flows)), diagm(ones(n_paths)))\n",
    "    \n",
    "    G = vcat(.-G_paths, G_nonneg, G_binary)\n",
    "    h = zeros(size(G)[1])\n",
    "\n",
    "    return G,h\n",
    "end\n",
    "\n",
    "function create_AGh(params::ForwardProblemParams)\n",
    "    n_paths, n_commodities = params.n_paths, params.n_commodities\n",
    "    n_flows = n_paths * n_commodities\n",
    "    n_variables = n_flows + n_paths\n",
    "\n",
    "    A = create_A(n_paths, n_commodities, n_variables, params.enabled_flows)\n",
    "    G,h = create_Gh(n_paths, n_commodities, n_variables, params.enabled_flows)\n",
    "\n",
    "    return A, G, h\n",
    "end\n",
    "\n",
    "function add_half_space_constraint(G::Matrix, h::Vector, sol_opt::Vector, params::ForwardProblemParams)\n",
    "    flat_flow_costs = reshape(params.flow_costs, (length(params.flow_costs), 1))\n",
    "    full_costs = vcat(flat_flow_costs, params.design_costs)\n",
    "\n",
    "    optimal_cost = full_costs' * sol_opt\n",
    "\n",
    "    G_hs = vcat(G, full_costs')\n",
    "    h_hs = vcat(h, optimal_cost)\n",
    "\n",
    "    return G_hs, h_hs\n",
    "end"
   ]
  },
  {
   "cell_type": "code",
   "execution_count": 43,
   "id": "d423b47d",
   "metadata": {},
   "outputs": [
    {
     "data": {
      "text/plain": [
       "create_inverse_problem_single (generic function with 1 method)"
      ]
     },
     "metadata": {},
     "output_type": "display_data"
    }
   ],
   "source": [
    "\n",
    "function create_b_variables!(model::Model, n_commodities::Integer)\n",
    "    @variable(model, b[1:(2 * n_commodities)])\n",
    "    @constraint(model, [i = 1:n_commodities], b[i] == -b[n_commodities + i])\n",
    "    \n",
    "    return b\n",
    "end\n",
    "\n",
    "function add_inverse_constraints!(model::Model, sol::Vector, A::Matrix, b::Vector, G::Matrix, h::Vector)\n",
    "    @constraint(model, A*sol .>= b)\n",
    "end\n",
    "\n",
    "function add_inverse_objective!(model::Model, A::Matrix, b::Vector)\n",
    "end\n",
    "\n",
    "function create_inverse_problem_single(params::ForwardProblemParams, x_sol::Matrix, z_sol::Vector)\n",
    "    model = Model(Gurobi.Optimizer)\n",
    "\n",
    "    A, G, h = create_AGh(params)\n",
    "    sol = create_solution_vector(x_sol, z_sol)\n",
    "    println(size(sol))\n",
    "    G, h = add_half_space_constraint(G, h, sol, params)\n",
    "    \n",
    "    b = create_b_variables!(model, params.n_commodities)\n",
    "\n",
    "    add_inverse_constraints!(model, sol, A, b, G, h)\n",
    "    add_inverse_objective!(model, A, b)    \n",
    "\n",
    "    return model\n",
    "end"
   ]
  },
  {
   "cell_type": "code",
   "execution_count": 44,
   "id": "a73f7b44",
   "metadata": {},
   "outputs": [
    {
     "name": "stdout",
     "output_type": "stream",
     "text": [
      "Set parameter Username\n",
      "Academic license - for non-commercial use only - expires 2024-04-23\n",
      "Gurobi Optimizer version 10.0.1 build v10.0.1rc0 (linux64)\n",
      "\n",
      "CPU model: Intel(R) Core(TM) i5-8250U CPU @ 1.60GHz, instruction set [SSE2|AVX|AVX2]\n",
      "Thread count: 4 physical cores, 8 logical processors, using up to 8 threads\n",
      "\n",
      "Optimize a model with 5 rows, 6 columns and 11 nonzeros\n",
      "Model fingerprint: 0xa664e8a1\n",
      "Variable types: 4 continuous, 2 integer (2 binary)\n",
      "Coefficient statistics:\n",
      "  Matrix range     [1e+00, 1e+02]\n",
      "  Objective range  [1e+01, 1e+02]\n",
      "  Bounds range     [0e+00, 0e+00]\n",
      "  RHS range        [6e+00, 1e+01]\n",
      "Presolve removed 5 rows and 6 columns\n",
      "Presolve time: 0.00s\n",
      "Presolve: All rows and columns removed\n",
      "\n",
      "Explored 0 nodes (0 simplex iterations) in 0.00 seconds (0.00 work units)\n",
      "Thread count was 1 (of 8 available processors)\n",
      "\n",
      "Solution count 1: 810 \n",
      "\n",
      "Optimal solution found (tolerance 1.00e-04)\n",
      "Best objective 8.100000000000e+02, best bound 8.100000000000e+02, gap 0.0000%\n",
      "\n",
      "User-callback calls 211, time in user-callback 0.00 sec\n"
     ]
    },
    {
     "data": {
      "text/plain": [
       "([10.0 0.0; 0.0 6.0], [1.0, 1.0])"
      ]
     },
     "metadata": {},
     "output_type": "display_data"
    }
   ],
   "source": [
    "params = forward_example_params()\n",
    "\n",
    "forward_model = create_forward_problem(params)\n",
    "x_sol, z_sol = solve_forward_problem!(forward_model)"
   ]
  },
  {
   "cell_type": "code",
   "execution_count": 45,
   "id": "85d2e53e",
   "metadata": {},
   "outputs": [
    {
     "name": "stdout",
     "output_type": "stream",
     "text": [
      "Set parameter Username\n",
      "Academic license - for non-commercial use only - expires 2024-04-23\n",
      "(6,)\n",
      "Feasibility"
     ]
    },
    {
     "name": "stdout",
     "output_type": "stream",
     "text": [
      "\n",
      "Subject to\n",
      " "
     ]
    },
    {
     "name": "stdout",
     "output_type": "stream",
     "text": [
      "b[1] + b[3] = 0.0\n",
      " b[2] + b[4] = 0.0\n",
      " -b[1] ≥ -10.0\n",
      " -b[2] ≥ -6.0\n",
      " -b[3] ≥ 10.0\n",
      " -b[4] ≥ 6.0\n"
     ]
    }
   ],
   "source": [
    "inverse_model = create_inverse_problem_single(params, x_sol, z_sol)\n",
    "print(inverse_model)"
   ]
  },
  {
   "cell_type": "code",
   "execution_count": 47,
   "id": "6567ef60",
   "metadata": {},
   "outputs": [
    {
     "name": "stdout",
     "output_type": "stream",
     "text": [
      "Gurobi Optimizer version 10.0.1 build v10.0.1rc0 (linux64)\n",
      "\n",
      "CPU model: Intel(R) Core(TM) i5-8250U CPU @ 1.60GHz, instruction set [SSE2|AVX|AVX2]\n",
      "Thread count: 4 physical cores, 8 logical processors, using up to 8 threads\n",
      "\n",
      "Optimize a model with 6 rows, 4 columns and 8 nonzeros\n",
      "Coefficient statistics:\n",
      "  Matrix range     [1e+00, 1e+00]\n",
      "  Objective range  [0e+00, 0e+00]\n",
      "  Bounds range     [0e+00, 0e+00]\n",
      "  RHS range        [6e+00, 1e+01]\n",
      "\n",
      "Solved in 0 iterations and 0.00 seconds (0.00 work units)\n",
      "Optimal objective  0.000000000e+00\n",
      "\n",
      "User-callback calls 15, time in user-callback 0.00 sec\n"
     ]
    },
    {
     "data": {
      "text/plain": [
       "4-element Vector{Float64}:\n",
       "  10.0\n",
       "   6.0\n",
       " -10.0\n",
       "  -6.0"
      ]
     },
     "metadata": {},
     "output_type": "display_data"
    }
   ],
   "source": [
    "optimize!(inverse_model)\n",
    "value.(inverse_model[:b])"
   ]
  },
  {
   "cell_type": "code",
   "execution_count": null,
   "id": "88de94b5",
   "metadata": {},
   "outputs": [],
   "source": []
  }
 ],
 "metadata": {
  "kernelspec": {
   "display_name": "Julia 1.9.0",
   "language": "julia",
   "name": "julia-1.9"
  },
  "language_info": {
   "file_extension": ".jl",
   "mimetype": "application/julia",
   "name": "julia",
   "version": "1.9.0"
  }
 },
 "nbformat": 4,
 "nbformat_minor": 5
}
