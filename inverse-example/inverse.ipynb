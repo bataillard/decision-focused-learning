{
 "cells": [
  {
   "attachments": {},
   "cell_type": "markdown",
   "id": "1e82386a",
   "metadata": {},
   "source": [
    "# Inverse Optimization for DFS\n",
    "_Applying Ghobadi and Mahmoudzadeh 2021_"
   ]
  },
  {
   "cell_type": "code",
   "execution_count": null,
   "id": "af90d3fb",
   "metadata": {},
   "outputs": [],
   "source": [
    "using JuMP\n",
    "using Gurobi\n",
    "using LinearAlgebra\n",
    "using Distributions\n",
    "using Random\n",
    "\n",
    "Random.seed!(42)"
   ]
  },
  {
   "cell_type": "code",
   "execution_count": null,
   "id": "e21d7c71",
   "metadata": {},
   "outputs": [],
   "source": [
    "include(\"dflio.jl\")\n",
    "\n",
    "import .DflIo.Forward as Forward\n",
    "import .DflIo.InverseDemand as IODemand\n",
    "import .DflIo.InverseLinReg as IOLinReg\n",
    "import .DflIo.DataGeneration as DataGen"
   ]
  },
  {
   "attachments": {},
   "cell_type": "markdown",
   "id": "699f05d9",
   "metadata": {},
   "source": [
    "## Forward problem"
   ]
  },
  {
   "cell_type": "code",
   "execution_count": null,
   "id": "0fe8a834",
   "metadata": {},
   "outputs": [],
   "source": [
    "function forward_example_params()::Forward.Params\n",
    "    enabled_flows = ones(Bool, (2, 2))\n",
    "    enabled_flows[1, 2] = false\n",
    "\n",
    "    return Forward.Params(\n",
    "        n_paths=2, \n",
    "        n_commodities=2,\n",
    "        capacities=[1000, 15],\n",
    "        design_costs=[10000, 100],\n",
    "        flow_costs=[100 100 ; 10 10],\n",
    "        enabled_flows=enabled_flows\n",
    "    )\n",
    "end\n",
    "\n",
    "function forward_example_demand()::Vector\n",
    "    return [10, 6]\n",
    "end"
   ]
  },
  {
   "cell_type": "code",
   "execution_count": null,
   "id": "1ca1599e",
   "metadata": {},
   "outputs": [],
   "source": [
    "forward_params = forward_example_params()\n",
    "forward_demand = forward_example_demand()\n",
    "\n",
    "forward_sol = Forward.create_and_solve_problem(forward_params, forward_demand)"
   ]
  },
  {
   "cell_type": "code",
   "execution_count": null,
   "id": "9e48b666",
   "metadata": {},
   "outputs": [],
   "source": [
    "println(forward_sol.x_sol)\n",
    "println(forward_sol.z_sol)"
   ]
  },
  {
   "attachments": {},
   "cell_type": "markdown",
   "id": "a94f553b",
   "metadata": {},
   "source": [
    "## Inverse problem"
   ]
  },
  {
   "attachments": {},
   "cell_type": "markdown",
   "id": "7b9f5d67",
   "metadata": {},
   "source": [
    "### Demand only"
   ]
  },
  {
   "cell_type": "code",
   "execution_count": null,
   "id": "85d2e53e",
   "metadata": {},
   "outputs": [],
   "source": [
    "inverse_demand_model = IODemand.create_problem(forward_params, forward_sol)\n",
    "latex_formulation(inverse_demand_model)"
   ]
  },
  {
   "cell_type": "code",
   "execution_count": null,
   "id": "6567ef60",
   "metadata": {},
   "outputs": [],
   "source": [
    "inverse_demand_solution = IODemand.solve_problem!(inverse_demand_model)"
   ]
  },
  {
   "cell_type": "code",
   "execution_count": null,
   "id": "77ff69f1",
   "metadata": {},
   "outputs": [],
   "source": [
    "println(\"Found demands:\")\n",
    "show(inverse_demand_solution.demands)\n",
    "println(\"\\nActual demands:\")\n",
    "show(forward_demand)"
   ]
  },
  {
   "attachments": {},
   "cell_type": "markdown",
   "id": "88de94b5",
   "metadata": {},
   "source": [
    "### Linear regression without noise"
   ]
  },
  {
   "cell_type": "code",
   "execution_count": null,
   "id": "1970b2e4",
   "metadata": {},
   "outputs": [],
   "source": [
    "function inverse_linreg_example_datagen_params()\n",
    "    return DataGen.DataGenParams(weights=[1.5 2; 1 1])\n",
    "end\n",
    "\n",
    "function inverse_linreg_example_problem_params()\n",
    "    return IOLinReg.Params(n_features=2, forward_params=forward_example_params())\n",
    "end\n",
    "\n",
    "function inverse_linreg_example_featuress()\n",
    "    return [[4, 2], [3, 1]]\n",
    "end"
   ]
  },
  {
   "cell_type": "code",
   "execution_count": null,
   "id": "ab13eb14",
   "metadata": {},
   "outputs": [],
   "source": [
    "linreg_datagen_params = inverse_linreg_example_datagen_params()\n",
    "linreg_problem_params = inverse_linreg_example_problem_params()\n",
    "linreg_input_featuress = inverse_linreg_example_featuress()\n",
    "\n",
    "linreg_solution_points = DataGen.generate_solution_points(linreg_datagen_params, linreg_problem_params, linreg_input_featuress)"
   ]
  },
  {
   "cell_type": "code",
   "execution_count": null,
   "id": "bb152e08",
   "metadata": {},
   "outputs": [],
   "source": [
    "linreg_model = IOLinReg.create_problem(linreg_problem_params, linreg_solution_points)\n",
    "latex_formulation(linreg_model)"
   ]
  },
  {
   "cell_type": "code",
   "execution_count": null,
   "id": "c697eee5",
   "metadata": {},
   "outputs": [],
   "source": [
    "linreg_solution = IOLinReg.solve_problem!(linreg_model, linreg_problem_params)"
   ]
  },
  {
   "cell_type": "code",
   "execution_count": null,
   "id": "f93b8ef2",
   "metadata": {},
   "outputs": [],
   "source": [
    "println(\"Found weights:\")\n",
    "show(linreg_solution.weights)\n",
    "println(\"\\nActual weights:\")\n",
    "show(linreg_datagen_params.weights)"
   ]
  },
  {
   "attachments": {},
   "cell_type": "markdown",
   "id": "7779eaf7",
   "metadata": {},
   "source": [
    "### Linear regression with noise "
   ]
  },
  {
   "cell_type": "code",
   "execution_count": null,
   "id": "fdc1ed24",
   "metadata": {},
   "outputs": [],
   "source": [
    "function noisy_example_datagen_params()\n",
    "    return DataGen.DataGenParams(weights=[1.5 2; 1 1], noise_variance=[2.5, 1.2])\n",
    "end\n",
    "\n",
    "function noisy_example_problem_params()\n",
    "    return IOLinReg.Params(n_features=2, forward_params=forward_example_params(), with_noise=true)\n",
    "end\n",
    "\n",
    "function noisy_example_featuress(n_points::Integer)\n",
    "    n_features = 2\n",
    "    max_feature_value = 5\n",
    "\n",
    "    uniform = Uniform.(zeros(n_features), max_feature_value .* ones(n_features))\n",
    "    mv_uniform = Product(uniform)\n",
    "    \n",
    "    points = rand(mv_uniform, n_points)\n",
    "    \n",
    "    return [points[:, col] for col in 1:size(points)[2]]\n",
    "end"
   ]
  },
  {
   "cell_type": "code",
   "execution_count": null,
   "id": "f1f53f89",
   "metadata": {},
   "outputs": [],
   "source": [
    "noisy_datagen_params = noisy_example_datagen_params()\n",
    "noisy_problem_params = noisy_example_problem_params()\n",
    "noisy_input_featuress = noisy_example_featuress(30)\n",
    "\n",
    "noisy_solution_points = DataGen.generate_solution_points(noisy_datagen_params, noisy_problem_params, noisy_input_featuress)"
   ]
  },
  {
   "cell_type": "code",
   "execution_count": null,
   "id": "be2c05c0",
   "metadata": {},
   "outputs": [],
   "source": [
    "using Plots\n",
    "using LaTeXStrings\n",
    "\n",
    "function anim_plot_demand(solutions, noisy_datagen_params, demand_index=1)\n",
    "    phis = [solution.linreg_features for solution in solutions]\n",
    "\n",
    "    phi1 = getindex.(phis, 1)\n",
    "    phi2 = getindex.(phis, 2)\n",
    "    demands = [sol.actual_demands[demand_index] for sol in solutions]\n",
    "\n",
    "    xs = [0, 5]\n",
    "    ys = [0, 5]\n",
    "    d(p1, p2) = noisy_datagen_params.weights[demand_index, :]' * [p1, p2]\n",
    "\n",
    "    plt = surface(xs, ys, d.(xs', ys), xlabel=L\"\\phi_1\", ylabel=L\"\\phi_2\", zlabel=L\"d_%$(demand_index)\")\n",
    "    scatter3d!(phi1, phi2, demands, labels=\"Actual demands\")\n",
    "\n",
    "    anim = @animate for i in vcat(30:100, 100:-1:30)\n",
    "        plot!(plt, camera = (i, 10))\n",
    "    end\n",
    "\n",
    "    return gif(anim, \"img/animsurf.gif\", fps = 15)\n",
    "end\n",
    "\n",
    "# anim_plot_demand(solutions, noisy_datagen_params)"
   ]
  },
  {
   "cell_type": "code",
   "execution_count": null,
   "id": "d2c2e3b5",
   "metadata": {},
   "outputs": [],
   "source": [
    "noisy_model = IOLinReg.create_problem(noisy_problem_params, noisy_solution_points)"
   ]
  },
  {
   "cell_type": "code",
   "execution_count": null,
   "id": "eb366f92",
   "metadata": {},
   "outputs": [],
   "source": [
    "noisy_solution = IOLinReg.solve_problem!(noisy_model, noisy_problem_params)"
   ]
  },
  {
   "cell_type": "code",
   "execution_count": null,
   "id": "086df62b",
   "metadata": {},
   "outputs": [],
   "source": [
    "println(\"Found weights:\")\n",
    "show(noisy_solution.weights)\n",
    "println(\"\\nActual weights:\")\n",
    "show(noisy_datagen_params.weights)\n",
    "\n",
    "println(\"\\n\\nRMSE:\")\n",
    "show(noisy_solution.rmse)"
   ]
  },
  {
   "attachments": {},
   "cell_type": "markdown",
   "id": "dcc14029",
   "metadata": {},
   "source": [
    "## Experiments"
   ]
  },
  {
   "cell_type": "code",
   "execution_count": null,
   "id": "d1b3fee3",
   "metadata": {},
   "outputs": [],
   "source": [
    "function predict_example_weights(n_points)\n",
    "    datagen_params = noisy_example_datagen_params()\n",
    "    problem_params = noisy_example_problem_params()\n",
    "    input_featuress = noisy_example_featuress(n_points)\n",
    "\n",
    "    solution_points = DataGen.generate_solution_points(datagen_params, problem_params, input_featuress)\n",
    "    noisy_model = IOLinReg.create_problem(noisy_problem_params, solution_points)\n",
    "    \n",
    "    set_silent(noisy_model)\n",
    "\n",
    "    println(n_points)\n",
    "\n",
    "    return IOLinReg.solve_problem!(noisy_model, problem_params)\n",
    "end"
   ]
  },
  {
   "cell_type": "code",
   "execution_count": null,
   "id": "381bdfc0",
   "metadata": {},
   "outputs": [],
   "source": [
    "n_datapoints = vcat([2, 3, 4], 5:5:1000)\n",
    "solutions = [predict_example_weights(n) for n in n_datapoints]"
   ]
  },
  {
   "cell_type": "code",
   "execution_count": null,
   "id": "fa804749",
   "metadata": {},
   "outputs": [],
   "source": [
    "avg_noise_variance = sqrt(mean(noisy_datagen_params.noise_variance))\n",
    "\n",
    "plt = plot(n_datapoints, [sol.rmse for sol in solutions], xlim=(2, 1000), xlabel=\"Number of datapoints\", ylabel=\"RMSE\", label=\"IO Model\")\n",
    "plot!([2, 1000], [avg_noise_variance, avg_noise_variance], linestyle=:dash, label=\"Demand average std dev\")\n",
    "\n",
    "savefig(plt, \"img/io-mse.png\")\n",
    "plt"
   ]
  },
  {
   "cell_type": "code",
   "execution_count": null,
   "id": "92d908ff",
   "metadata": {},
   "outputs": [],
   "source": [
    "frobenius_norms = [norm(sol.weights .- noisy_datagen_params.weights) for sol in solutions]\n",
    "plt2 = plot(n_datapoints, frobenius_norms, xlim=(2, 1000), xlabel=\"Number of datapoints\", ylabel=L\"\\Vert W - \\hat{W} \\Vert_F\", label=\"IO Model\")\n",
    "\n",
    "savefig(plt2, \"img/frobenius.png\")\n",
    "plt2"
   ]
  },
  {
   "cell_type": "code",
   "execution_count": null,
   "id": "98dcec7b",
   "metadata": {},
   "outputs": [],
   "source": []
  }
 ],
 "metadata": {
  "kernelspec": {
   "display_name": "Julia 1.9.0",
   "language": "julia",
   "name": "julia-1.9"
  },
  "language_info": {
   "file_extension": ".jl",
   "mimetype": "application/julia",
   "name": "julia",
   "version": "1.9.0"
  }
 },
 "nbformat": 4,
 "nbformat_minor": 5
}
