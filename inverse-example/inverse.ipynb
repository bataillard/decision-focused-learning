{
 "cells": [
  {
   "attachments": {},
   "cell_type": "markdown",
   "id": "1e82386a",
   "metadata": {},
   "source": [
    "# Inverse Optimization for DFS\n",
    "_Applying Ghobadi and Mahmoudzadeh 2021_"
   ]
  },
  {
   "cell_type": "code",
   "execution_count": null,
   "id": "af90d3fb",
   "metadata": {},
   "outputs": [],
   "source": [
    "using JuMP\n",
    "using Gurobi\n",
    "using LinearAlgebra\n",
    "using Distributions"
   ]
  },
  {
   "cell_type": "code",
   "execution_count": null,
   "id": "e21d7c71",
   "metadata": {},
   "outputs": [],
   "source": [
    "include(\"dflio.jl\")\n",
    "\n",
    "import .DflIo.Forward as Forward\n",
    "import .DflIo.InverseDemand as IODemand\n",
    "import .DflIo.InverseLinReg as IOLinReg\n",
    "import .DflIo.DataGeneration as DataGen"
   ]
  },
  {
   "attachments": {},
   "cell_type": "markdown",
   "id": "699f05d9",
   "metadata": {},
   "source": [
    "## Forward problem"
   ]
  },
  {
   "cell_type": "code",
   "execution_count": null,
   "id": "0fe8a834",
   "metadata": {},
   "outputs": [],
   "source": [
    "function forward_example_params()::Forward.Params\n",
    "    enabled_flows = ones(Bool, (2, 2))\n",
    "    enabled_flows[1, 2] = false\n",
    "\n",
    "    return Forward.Params(\n",
    "        n_paths=2, \n",
    "        n_commodities=2,\n",
    "        capacities=[100, 100],\n",
    "        design_costs=[100, 10],\n",
    "        flow_costs=[10 10 ; 100 100],\n",
    "        enabled_flows=enabled_flows\n",
    "    )\n",
    "end\n",
    "\n",
    "function forward_example_demand()::Vector\n",
    "    return [10, 6]\n",
    "end"
   ]
  },
  {
   "cell_type": "code",
   "execution_count": null,
   "id": "1ca1599e",
   "metadata": {},
   "outputs": [],
   "source": [
    "forward_params = forward_example_params()\n",
    "forward_demand = forward_example_demand()\n",
    "\n",
    "forward_sol = Forward.create_and_solve_problem(forward_params, forward_demand)"
   ]
  },
  {
   "cell_type": "code",
   "execution_count": null,
   "id": "9e48b666",
   "metadata": {},
   "outputs": [],
   "source": [
    "println(forward_sol.x_sol)\n",
    "println(forward_sol.z_sol)"
   ]
  },
  {
   "attachments": {},
   "cell_type": "markdown",
   "id": "a94f553b",
   "metadata": {},
   "source": [
    "## Inverse problem (demand only)"
   ]
  },
  {
   "cell_type": "code",
   "execution_count": null,
   "id": "85d2e53e",
   "metadata": {},
   "outputs": [],
   "source": [
    "inverse_demand_model = IODemand.create_problem(forward_params, forward_sol)\n",
    "print(inverse_demand_model)"
   ]
  },
  {
   "cell_type": "code",
   "execution_count": null,
   "id": "6567ef60",
   "metadata": {},
   "outputs": [],
   "source": [
    "inverse_demand_solution = IODemand.solve_problem!(inverse_demand_model)"
   ]
  },
  {
   "cell_type": "code",
   "execution_count": null,
   "id": "77ff69f1",
   "metadata": {},
   "outputs": [],
   "source": [
    "print(inverse_demand_solution)"
   ]
  },
  {
   "attachments": {},
   "cell_type": "markdown",
   "id": "88de94b5",
   "metadata": {},
   "source": [
    "## Inverse problem (linear regression on demand)"
   ]
  },
  {
   "cell_type": "code",
   "execution_count": null,
   "id": "1970b2e4",
   "metadata": {},
   "outputs": [],
   "source": [
    "function inverse_linreg_example_datagen_params()\n",
    "    return DataGen.DataGenParams(weights=[1.5 2; 1 1])\n",
    "end\n",
    "\n",
    "function inverse_linreg_example_problem_params()\n",
    "    return IOLinReg.Params(n_features=2, forward_params=forward_example_params())\n",
    "end\n",
    "\n",
    "function inverse_linreg_example_featuress()\n",
    "    return [[4, 2], [3, 1]]\n",
    "end"
   ]
  },
  {
   "cell_type": "code",
   "execution_count": null,
   "id": "ab13eb14",
   "metadata": {},
   "outputs": [],
   "source": [
    "datagen_params = inverse_linreg_example_datagen_params()\n",
    "problem_params = inverse_linreg_example_problem_params()\n",
    "input_featuress = inverse_linreg_example_featuress()\n",
    "\n",
    "solutions = DataGen.generate_solution_points(datagen_params, problem_params, input_featuress)"
   ]
  },
  {
   "cell_type": "code",
   "execution_count": null,
   "id": "bb152e08",
   "metadata": {},
   "outputs": [],
   "source": [
    "linreg_model = IOLinReg.create_problem(problem_params, solutions)\n",
    "print(linreg_model)"
   ]
  },
  {
   "cell_type": "code",
   "execution_count": null,
   "id": "f93b8ef2",
   "metadata": {},
   "outputs": [],
   "source": [
    "linreg_solution = IOLinReg.solve_problem!(linreg_model)\n",
    "print(linreg_solution)"
   ]
  },
  {
   "cell_type": "code",
   "execution_count": null,
   "id": "7779eaf7",
   "metadata": {},
   "outputs": [],
   "source": []
  }
 ],
 "metadata": {
  "kernelspec": {
   "display_name": "Julia 1.9.0",
   "language": "julia",
   "name": "julia-1.9"
  },
  "language_info": {
   "file_extension": ".jl",
   "mimetype": "application/julia",
   "name": "julia",
   "version": "1.9.0"
  }
 },
 "nbformat": 4,
 "nbformat_minor": 5
}
