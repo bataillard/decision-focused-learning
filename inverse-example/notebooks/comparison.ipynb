{
 "cells": [
  {
   "cell_type": "code",
   "execution_count": null,
   "metadata": {},
   "outputs": [],
   "source": [
    "using JuMP\n",
    "using Gurobi\n",
    "using LinearAlgebra\n",
    "using Distributions\n",
    "using Random\n",
    "using PDMats\n",
    "\n",
    "Random.seed!(42)"
   ]
  },
  {
   "cell_type": "code",
   "execution_count": null,
   "metadata": {},
   "outputs": [],
   "source": [
    "using Revise\n",
    "\n",
    "includet(\"../models/forward.jl\")\n",
    "import .Forward as Forward\n",
    "\n",
    "includet(\"../models/inversedemand.jl\")\n",
    "import .InverseDemand as IODemand\n",
    "\n",
    "includet(\"../models/inverselinreg.jl\")\n",
    "import .InverseLinReg as IOLinReg\n",
    "\n",
    "includet(\"../datagen/data-generation.jl\")\n",
    "import .DataGeneration as DataGen\n"
   ]
  },
  {
   "cell_type": "code",
   "execution_count": null,
   "metadata": {},
   "outputs": [],
   "source": [
    "function forward_example_params()::Forward.Params\n",
    "    enabled_flows = ones(Bool, (4, 2))\n",
    "    enabled_flows = [\n",
    "        1 0;\n",
    "        0 1;\n",
    "        1 0;\n",
    "        0 1\n",
    "    ]\n",
    "\n",
    "    return Forward.Params(\n",
    "        n_paths=4, \n",
    "        n_commodities=2,\n",
    "        capacities=[10, 15, 1000, 1000],\n",
    "        design_costs=[10, 10, 100, 100],\n",
    "        flow_costs=[10 0 ; 0 10 ; 100 0; 0 100],\n",
    "        enabled_flows=enabled_flows\n",
    "    )\n",
    "end\n",
    "\n",
    "forward_example_params()"
   ]
  },
  {
   "cell_type": "code",
   "execution_count": null,
   "metadata": {},
   "outputs": [],
   "source": [
    "struct DataGenParams\n",
    "    n_commodities::Integer\n",
    "    n_features::Integer\n",
    "\n",
    "    weights::Matrix\n",
    "    noise_variance::Union{AbstractVector, Nothing}\n",
    "\n",
    "    function DataGenParams(; weights::Matrix, noise_variance=nothing::Union{AbstractVector, Nothing})\n",
    "        n_commodities, n_features = size(weights)\n",
    "        \n",
    "        if (noise_variance !== nothing && size(noise_variance)[1] != n_commodities)\n",
    "            error(\"Invalid size $(size(noise_variance)) of noise variance, should be $(n_commodities)\")\n",
    "        end\n",
    "\n",
    "        new(n_commodities, n_features, weights, noise_variance)\n",
    "    end\n",
    "end\n",
    "\n",
    "dgen_params = DataGenParams(\n",
    "    weights=[1.5 3 2 ; 1 2.5 -0.4], \n",
    "    noise_variance=[2.5, 1.2])"
   ]
  },
  {
   "cell_type": "code",
   "execution_count": null,
   "metadata": {},
   "outputs": [],
   "source": [
    "n_points = 10"
   ]
  },
  {
   "cell_type": "code",
   "execution_count": null,
   "metadata": {},
   "outputs": [],
   "source": [
    "function generate_input_features(datagen_params::DataGenParams, n_points; lower_bound=0, upper_bound=10)\n",
    "    n_features = datagen_params.n_features\n",
    "    \n",
    "    distribution = Uniform.(fill(lower_bound, n_features), fill(upper_bound, n_features))\n",
    "    mv_distribution = Product(distribution)\n",
    "\n",
    "    return rand(mv_distribution, n_points)\n",
    "end\n",
    "\n",
    "features = generate_input_features(dgen_params, n_points)"
   ]
  },
  {
   "cell_type": "code",
   "execution_count": null,
   "metadata": {},
   "outputs": [],
   "source": [
    "function generate_noise(datagen_params::DataGenParams)\n",
    "    if datagen_params.noise_variance === nothing\n",
    "        return zeros(datagen_params.n_commodities)\n",
    "    end\n",
    "\n",
    "    covariance_matrix = PDiagMat(datagen_params.noise_variance)\n",
    "    distribution = DiagNormal(zeros(datagen_params.n_commodities), covariance_matrix)\n",
    "\n",
    "    return vec(rand(distribution, 1))\n",
    "end\n",
    "\n",
    "function generate_noises(datagen_params::DataGenParams, n_points)\n",
    "    return hcat([generate_noise(datagen_params) for _ in 1:n_points]...)\n",
    "end\n",
    "\n",
    "noises = generate_noises(dgen_params, n_points)"
   ]
  },
  {
   "cell_type": "code",
   "execution_count": null,
   "metadata": {},
   "outputs": [],
   "source": [
    "function generate_demands(datagen_params::DataGenParams, features, noises)\n",
    "    function predict_demand(features)        \n",
    "        return datagen_params.weights * features\n",
    "    end\n",
    "    \n",
    "    demands = mapslices(predict_demand, features, dims=1)\n",
    "    noisy_demands = demands .+ noises\n",
    "    non_negative_demands = max.(0, demands)\n",
    "\n",
    "    return non_negative_demands\n",
    "end\n",
    "\n",
    "demands = generate_demands(dgen_params, features, noises)"
   ]
  },
  {
   "cell_type": "code",
   "execution_count": null,
   "metadata": {},
   "outputs": [],
   "source": [
    "function generate_problem_params(base_params::IOLinReg.Params, demands; close_multiplier=1.1, far_multiplier=10, close_commodities=Set([1]))\n",
    "    function create_capacities(demand)\n",
    "        base_capacities = copy(base_params.forward_params.capacities)\n",
    "        \n",
    "        for (i, d) in enumerate(demand)\n",
    "            new_capacity = (i in close_commodities) ? close_multiplier * d : far_multiplier * d\n",
    "            base_capacities[i] = new_capacity\n",
    "        end\n",
    "        \n",
    "        return base_capacities\n",
    "    end\n",
    "\n",
    "    new_capacities = create_capacities.(eachcol(demands))\n",
    "    new_params = (IOLinReg.Params(new_capacity, base_params) for new_capacity in new_capacities)\n",
    "    return collect(new_params)\n",
    "end\n",
    "\n",
    "base_prob_params = IOLinReg.Params(n_features=dgen_params.n_features, forward_params=forward_example_params(), with_noise=true)\n",
    "problem_params = generate_problem_params(base_prob_params, demands)"
   ]
  },
  {
   "cell_type": "code",
   "execution_count": null,
   "metadata": {},
   "outputs": [],
   "source": [
    "function generate_solution_points(datagen_params::DataGenParams, features, demands, problem_params; gurobi_env=nothing)\n",
    "    create_and_solve_problem = (demand, param) ->\n",
    "        Forward.create_and_solve_problem(param.forward_params, demand, silent=true, gurobi_env=gurobi_env)\n",
    "\n",
    "    forward_sols = map(create_and_solve_problem, eachcol(demands), problem_params)\n",
    "    solutions = map(IOLinReg.SolutionPoint, forward_sols, eachcol(features), eachcol(demands), problem_params)\n",
    "\n",
    "    return solutions\n",
    "end\n",
    "\n",
    "g = Gurobi.Env()\n",
    "solutions = generate_solution_points(dgen_params, features, demands, problem_params, gurobi_env=g)"
   ]
  },
  {
   "cell_type": "code",
   "execution_count": null,
   "metadata": {},
   "outputs": [],
   "source": []
  }
 ],
 "metadata": {
  "kernelspec": {
   "display_name": "Julia 1.9.0",
   "language": "julia",
   "name": "julia-1.9"
  },
  "language_info": {
   "file_extension": ".jl",
   "mimetype": "application/julia",
   "name": "julia",
   "version": "1.9.0"
  },
  "orig_nbformat": 4
 },
 "nbformat": 4,
 "nbformat_minor": 2
}
